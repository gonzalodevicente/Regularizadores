{
  "nbformat": 4,
  "nbformat_minor": 0,
  "metadata": {
    "kernelspec": {
      "display_name": "Python 3",
      "language": "python",
      "name": "python3"
    },
    "language_info": {
      "codemirror_mode": {
        "name": "ipython",
        "version": 3
      },
      "file_extension": ".py",
      "mimetype": "text/x-python",
      "name": "python",
      "nbconvert_exporter": "python",
      "pygments_lexer": "ipython3",
      "version": "3.8.5"
    },
    "colab": {
      "provenance": []
    },
    "accelerator": "TPU"
  },
  "cells": [
    {
      "cell_type": "markdown",
      "metadata": {
        "id": "Ejg7Msp7rbkk"
      },
      "source": [
        "# Ejercicio con regularizadores"
      ]
    },
    {
      "cell_type": "code",
      "source": [
        "%tensorflow_version 2.x\n",
        "import tensorflow as tf\n",
        "from tensorflow import keras\n",
        "print(tf.keras.__version__)\n",
        "print(\"GPU Available:\", tf.config.list_physical_devices('GPU'))\n",
        "print(tf.__version__)\n",
        "from keras.datasets import mnist\n",
        "from keras import models\n",
        "from keras import layers\n",
        "import numpy as np\n",
        "import matplotlib.pyplot as plt\n",
        "from keras import regularizers"
      ],
      "metadata": {
        "id": "BSivef1i532C",
        "outputId": "37993f8d-0cb5-4e3c-f134-fc2ab63ee006",
        "colab": {
          "base_uri": "https://localhost:8080/"
        }
      },
      "execution_count": null,
      "outputs": [
        {
          "output_type": "stream",
          "name": "stdout",
          "text": [
            "Colab only includes TensorFlow 2.x; %tensorflow_version has no effect.\n",
            "2.9.0\n",
            "GPU Available: []\n",
            "2.9.2\n"
          ]
        }
      ]
    },
    {
      "cell_type": "code",
      "source": [
        "(train_images, train_labels), (test_images, test_labels) = mnist.load_data() # Descarga los datos de MNIST"
      ],
      "metadata": {
        "id": "3t3R6gU9-wUy",
        "colab": {
          "base_uri": "https://localhost:8080/"
        },
        "outputId": "b1908303-840e-4ce6-ebe1-214b47df6c8d"
      },
      "execution_count": null,
      "outputs": [
        {
          "output_type": "stream",
          "name": "stdout",
          "text": [
            "Downloading data from https://storage.googleapis.com/tensorflow/tf-keras-datasets/mnist.npz\n",
            "11490434/11490434 [==============================] - 0s 0us/step\n"
          ]
        }
      ]
    },
    {
      "cell_type": "code",
      "source": [
        "# Prepara con reshape y normaliza las imágenes tanto de entrenamiento como de test\n",
        "train_images = train_images.reshape(60000,28*28)\n",
        "train_images = train_images.astype('float32') / 255\n",
        "test_images = test_images.reshape(10000,28*28)\n",
        "test_images  = test_images.astype('float32') / 255"
      ],
      "metadata": {
        "id": "H6n5NeSz0U1d"
      },
      "execution_count": null,
      "outputs": []
    },
    {
      "cell_type": "code",
      "source": [
        "# Crear un subconjunto de imágenes de entrenamiento que llamaré\n",
        "# validation_images, para hacer las validaciones, con las 10000 últimas imágenes \n",
        "# del set de datos de entrenamiento (train_images) (obviamente, lo mismo con las\n",
        "# etiquetas correspondientes -> validation_labels). Deja preparadas las 60K \n",
        "# primeras imágenes y etiquetas para entrenamiento (train_images y train_labels)\n",
        "validation_images = train_images[50000:60000-1]\n",
        "validation_labels = train_labels[50000:60000-1]"
      ],
      "metadata": {
        "id": "NKoZGyap0XAj"
      },
      "execution_count": null,
      "outputs": []
    },
    {
      "cell_type": "code",
      "source": [
        "def crea_modelo(regularizador):\n",
        "  model1 = models.Sequential()\n",
        "  # Define una función que recibe un número del 0 al 4 que creará:\n",
        "  # un modelo secuencial con una capa de entrada densa de 512 neuronas\n",
        "  # con activación relu y la capa de salida que le corresponda según el problema\n",
        "  # Ahora, en función del número del regularizador:\n",
        "  # Si es 0, no mete ningún regularizador\n",
        "  # Si es 1, mete un regularizador de tipo l1 y valor 0.001\n",
        "  # Si es 2, mete un regularizador de tipo l2 y valor 0.001\n",
        "  # Si es 3, mete un regularizador de tipo l1_l2 y valor 0.001 para ambos\n",
        "  # Si es 4, mete un Dropout del 50% después de la primera capa densa\n",
        "  # Si es distinto que estos valores, escribe el error y retorna\n",
        "  if regularizador == 0:\n",
        "      model1.add(layers.Dense(512,activation='relu',input_shape=(28*28,)))\n",
        "  elif regularizador == 1:\n",
        "      model1.add(layers.Dense(512,activation='relu',kernel_regularizer=regularizers.l1(0.001),input_shape=(28*28,)))\n",
        "  elif regularizador == 2:\n",
        "      model1.add(layers.Dense(512,activation='relu', kernel_regularizer=regularizers.l2(0.001),input_shape=(28*28,)))\n",
        "  elif regularizador == 3:\n",
        "      model1.add(layers.Dense(512,activation='relu', kernel_regularizer=regularizers.l1_l2(l1=0.001,l2=0.001), input_shape=(28*28,)))\n",
        "  elif regularizador == 4:\n",
        "      model1.add(layers.Dense(512,activation='relu',input_shape=(28*28,)))\n",
        "      model1.add(layers.Dropout(0.5))\n",
        "  else:\n",
        "      print('ERROR. No existe esa opción')\n",
        "      return model1\n",
        "\n",
        "  model1.add(layers.Dense(10, activation='softmax'))\n",
        "  # Al final, esta función pinta el summary del modelo y retorna el modelo creado\n",
        "  model1.summary()\n",
        "  return model1"
      ],
      "metadata": {
        "id": "6JnVLVfsAfkh"
      },
      "execution_count": null,
      "outputs": []
    },
    {
      "cell_type": "code",
      "source": [
        "def compila_modelo(modelo): \n",
        "  # Define una función que recibe un modelo, lo compila con un optimizador\n",
        "  # 'rmsprop', con una función de pérdida 'sparse_categorical_crossentropy' y\n",
        "  # una métrica de precisión. La función retorna el modelo\n",
        "  modelo.compile(optimizer='rmsprop', \n",
        "                loss='sparse_categorical_crossentropy',\n",
        "                metrics=['accuracy'])\n",
        "  return modelo"
      ],
      "metadata": {
        "id": "qKyJ8KOT0aFt"
      },
      "execution_count": null,
      "outputs": []
    },
    {
      "cell_type": "code",
      "source": [
        "def entrena_modelo(modelo):\n",
        "  # Define una función que entrena el modelo que se le pasa por parámetro,\n",
        "  # con las imágenes y etiquetas de entrenamiento, con 30 iteraciones y 128\n",
        "  # de tamaño de minilote y con el validation_data creado más arriba.\n",
        "  # Esta función devuelve un history\n",
        "  historia = modelo.fit(train_images,  train_labels, epochs=30, batch_size=128, validation_data=(validation_images, validation_labels))\n",
        "  return historia"
      ],
      "metadata": {
        "id": "_yQ7SpOt0cBp"
      },
      "execution_count": null,
      "outputs": []
    },
    {
      "cell_type": "code",
      "source": [
        "def pinta_perdida_entrenamiento_validacion(historia):\n",
        "  history_dict = historia.history\n",
        "  acc = historia.history['accuracy']\n",
        "  val_acc = historia.history['val_accuracy']\n",
        "  loss = historia.history['loss']\n",
        "  val_loss = historia.history['val_loss']\n",
        "  epochs = range(1, len(acc) + 1)\n",
        "  # \"bo\" es para \"punto azun\"\n",
        "  plt.plot(epochs, loss, 'bo', label='Pérdida de Entrenamiento')\n",
        "  # \"b\" es para \"linea continua azul\"\n",
        "  plt.plot(epochs, val_loss, 'b', label='Pérdida de Validación')\n",
        "  plt.title('Pérdida de Entrenamiento y Validación')\n",
        "  plt.xlabel('Epochs')\n",
        "  plt.ylabel('Loss')\n",
        "  plt.legend()\n",
        "  plt.show()"
      ],
      "metadata": {
        "id": "bJrRNc4WwPN2"
      },
      "execution_count": null,
      "outputs": []
    },
    {
      "cell_type": "code",
      "source": [
        "def pinta_precision_entrenamiento_validacion(historia):\n",
        "  history_dict = historia.history\n",
        "  acc = historia.history['accuracy']\n",
        "  val_acc = historia.history['val_accuracy']\n",
        "  loss = historia.history['loss']\n",
        "  val_loss = historia.history['val_loss']\n",
        "  plt.clf()   # Limpia la figura\n",
        "  acc_values = history_dict['accuracy']\n",
        "  val_acc_values = history_dict['val_accuracy']\n",
        "  epochs = range(1, len(acc) + 1)\n",
        "  plt.plot(epochs, acc, 'bo', label='Precisión de Entrenamiento')\n",
        "  plt.plot(epochs, val_acc, 'b', label='Precisión de Validación')\n",
        "  plt.title('Precisión de Entrenamiento y Valización')\n",
        "  plt.xlabel('Epochs')\n",
        "  plt.ylabel('Loss')\n",
        "  plt.legend()\n",
        "  plt.show()"
      ],
      "metadata": {
        "id": "Mafxp6D3wYQx"
      },
      "execution_count": null,
      "outputs": []
    },
    {
      "cell_type": "markdown",
      "source": [
        "## Una vez definidas todas las funciones anteriores, ejecuta las siguientes llamadas a dichas funciones y deduce que está pasando y, para este contexto, que es lo que mejor está funcionando"
      ],
      "metadata": {
        "id": "6nnQYysYA3_T"
      }
    },
    {
      "cell_type": "markdown",
      "source": [
        "### Caso 0, sin regularizadores"
      ],
      "metadata": {
        "id": "OrGwDgaFBax4"
      }
    },
    {
      "cell_type": "code",
      "source": [
        "network0 = crea_modelo(0)"
      ],
      "metadata": {
        "id": "uXvhlXg79Zi9",
        "colab": {
          "base_uri": "https://localhost:8080/"
        },
        "outputId": "c143d636-cf15-4d31-c8d3-e470cd4945ad"
      },
      "execution_count": null,
      "outputs": [
        {
          "output_type": "stream",
          "name": "stdout",
          "text": [
            "Model: \"sequential_1\"\n",
            "_________________________________________________________________\n",
            " Layer (type)                Output Shape              Param #   \n",
            "=================================================================\n",
            " dense_2 (Dense)             (None, 512)               401920    \n",
            "                                                                 \n",
            " dense_3 (Dense)             (None, 10)                5130      \n",
            "                                                                 \n",
            "=================================================================\n",
            "Total params: 407,050\n",
            "Trainable params: 407,050\n",
            "Non-trainable params: 0\n",
            "_________________________________________________________________\n"
          ]
        }
      ]
    },
    {
      "cell_type": "code",
      "source": [
        "network0 = compila_modelo(network0)"
      ],
      "metadata": {
        "id": "Ff0HC3NR9ez8"
      },
      "execution_count": null,
      "outputs": []
    },
    {
      "cell_type": "code",
      "source": [
        "historia0 = entrena_modelo(network0)"
      ],
      "metadata": {
        "id": "x9zQDOlw9g6V",
        "colab": {
          "base_uri": "https://localhost:8080/"
        },
        "outputId": "f0652e5b-a0be-4b3b-9260-56e2d2ac341a"
      },
      "execution_count": null,
      "outputs": [
        {
          "output_type": "stream",
          "name": "stdout",
          "text": [
            "Epoch 1/30\n",
            "469/469 [==============================] - 8s 17ms/step - loss: 0.2588 - accuracy: 0.9255 - val_loss: 0.1111 - val_accuracy: 0.9694\n",
            "Epoch 2/30\n",
            "469/469 [==============================] - 6s 13ms/step - loss: 0.1045 - accuracy: 0.9693 - val_loss: 0.0700 - val_accuracy: 0.9797\n",
            "Epoch 3/30\n",
            "469/469 [==============================] - 6s 13ms/step - loss: 0.0676 - accuracy: 0.9799 - val_loss: 0.0514 - val_accuracy: 0.9850\n",
            "Epoch 4/30\n",
            "469/469 [==============================] - 6s 13ms/step - loss: 0.0492 - accuracy: 0.9851 - val_loss: 0.0305 - val_accuracy: 0.9916\n",
            "Epoch 5/30\n",
            "469/469 [==============================] - 7s 14ms/step - loss: 0.0372 - accuracy: 0.9889 - val_loss: 0.0237 - val_accuracy: 0.9933\n",
            "Epoch 6/30\n",
            "469/469 [==============================] - 7s 14ms/step - loss: 0.0282 - accuracy: 0.9912 - val_loss: 0.0191 - val_accuracy: 0.9942\n",
            "Epoch 7/30\n",
            "469/469 [==============================] - 6s 14ms/step - loss: 0.0213 - accuracy: 0.9937 - val_loss: 0.0137 - val_accuracy: 0.9966\n",
            "Epoch 8/30\n",
            "469/469 [==============================] - 7s 14ms/step - loss: 0.0167 - accuracy: 0.9948 - val_loss: 0.0089 - val_accuracy: 0.9978\n",
            "Epoch 9/30\n",
            "469/469 [==============================] - 6s 14ms/step - loss: 0.0124 - accuracy: 0.9969 - val_loss: 0.0091 - val_accuracy: 0.9975\n",
            "Epoch 10/30\n",
            "469/469 [==============================] - 7s 14ms/step - loss: 0.0097 - accuracy: 0.9976 - val_loss: 0.0060 - val_accuracy: 0.9985\n",
            "Epoch 11/30\n",
            "469/469 [==============================] - 8s 17ms/step - loss: 0.0075 - accuracy: 0.9979 - val_loss: 0.0036 - val_accuracy: 0.9990\n",
            "Epoch 12/30\n",
            "469/469 [==============================] - 6s 14ms/step - loss: 0.0059 - accuracy: 0.9983 - val_loss: 0.0028 - val_accuracy: 0.9997\n",
            "Epoch 13/30\n",
            "469/469 [==============================] - 7s 14ms/step - loss: 0.0049 - accuracy: 0.9986 - val_loss: 0.0036 - val_accuracy: 0.9992\n",
            "Epoch 14/30\n",
            "469/469 [==============================] - 6s 14ms/step - loss: 0.0038 - accuracy: 0.9990 - val_loss: 0.0026 - val_accuracy: 0.9993\n",
            "Epoch 15/30\n",
            "469/469 [==============================] - 6s 14ms/step - loss: 0.0028 - accuracy: 0.9992 - val_loss: 0.0022 - val_accuracy: 0.9993\n",
            "Epoch 16/30\n",
            "469/469 [==============================] - 6s 14ms/step - loss: 0.0023 - accuracy: 0.9993 - val_loss: 4.8721e-04 - val_accuracy: 1.0000\n",
            "Epoch 17/30\n",
            "469/469 [==============================] - 7s 14ms/step - loss: 0.0017 - accuracy: 0.9995 - val_loss: 0.0019 - val_accuracy: 0.9995\n",
            "Epoch 18/30\n",
            "469/469 [==============================] - 6s 14ms/step - loss: 0.0017 - accuracy: 0.9995 - val_loss: 2.7478e-04 - val_accuracy: 1.0000\n",
            "Epoch 19/30\n",
            "469/469 [==============================] - 7s 14ms/step - loss: 9.4493e-04 - accuracy: 0.9997 - val_loss: 0.0012 - val_accuracy: 0.9994\n",
            "Epoch 20/30\n",
            "469/469 [==============================] - 7s 14ms/step - loss: 8.5553e-04 - accuracy: 0.9998 - val_loss: 4.8205e-04 - val_accuracy: 0.9999\n",
            "Epoch 21/30\n",
            "469/469 [==============================] - 6s 14ms/step - loss: 8.6831e-04 - accuracy: 0.9998 - val_loss: 3.1849e-04 - val_accuracy: 0.9999\n",
            "Epoch 22/30\n",
            "469/469 [==============================] - 7s 14ms/step - loss: 5.5171e-04 - accuracy: 0.9998 - val_loss: 4.3063e-04 - val_accuracy: 0.9998\n",
            "Epoch 23/30\n",
            "469/469 [==============================] - 6s 14ms/step - loss: 4.7494e-04 - accuracy: 0.9999 - val_loss: 1.5376e-04 - val_accuracy: 1.0000\n",
            "Epoch 24/30\n",
            "469/469 [==============================] - 6s 14ms/step - loss: 3.7338e-04 - accuracy: 0.9999 - val_loss: 2.3433e-04 - val_accuracy: 0.9999\n",
            "Epoch 25/30\n",
            "469/469 [==============================] - 6s 14ms/step - loss: 2.5780e-04 - accuracy: 0.9999 - val_loss: 9.0494e-05 - val_accuracy: 1.0000\n",
            "Epoch 26/30\n",
            "469/469 [==============================] - 6s 14ms/step - loss: 3.2692e-04 - accuracy: 0.9999 - val_loss: 1.1365e-04 - val_accuracy: 1.0000\n",
            "Epoch 27/30\n",
            "469/469 [==============================] - 6s 14ms/step - loss: 1.2795e-04 - accuracy: 1.0000 - val_loss: 3.9738e-04 - val_accuracy: 0.9998\n",
            "Epoch 28/30\n",
            "469/469 [==============================] - 6s 14ms/step - loss: 1.7344e-04 - accuracy: 0.9999 - val_loss: 9.0375e-06 - val_accuracy: 1.0000\n",
            "Epoch 29/30\n",
            "469/469 [==============================] - 7s 14ms/step - loss: 2.0147e-04 - accuracy: 0.9999 - val_loss: 1.5663e-05 - val_accuracy: 1.0000\n",
            "Epoch 30/30\n",
            "469/469 [==============================] - 7s 14ms/step - loss: 1.4625e-04 - accuracy: 1.0000 - val_loss: 5.7541e-05 - val_accuracy: 1.0000\n"
          ]
        }
      ]
    },
    {
      "cell_type": "code",
      "source": [
        "print(historia0.history)\n"
      ],
      "metadata": {
        "colab": {
          "base_uri": "https://localhost:8080/"
        },
        "id": "Z1Er3_RAjNnV",
        "outputId": "a01988f5-0746-4c15-cf44-e1bbc2755806"
      },
      "execution_count": null,
      "outputs": [
        {
          "output_type": "stream",
          "name": "stdout",
          "text": [
            "{'loss': [0.2588132321834564, 0.10449975728988647, 0.06762852519750595, 0.04919731989502907, 0.03723546862602234, 0.02816843055188656, 0.0213392972946167, 0.016724148765206337, 0.012378646992146969, 0.009737145155668259, 0.007519910577684641, 0.0059458124451339245, 0.004873714409768581, 0.003842805279418826, 0.0028014008421450853, 0.0023386357352137566, 0.0016891297418624163, 0.0016654256032779813, 0.0009449298377148807, 0.0008555265958420932, 0.0008683068444952369, 0.0005517080426216125, 0.00047493900638073683, 0.0003733796183951199, 0.00025779614225029945, 0.0003269159060437232, 0.0001279531861655414, 0.0001734437100822106, 0.00020147072791587561, 0.00014624725736211985], 'accuracy': [0.9255499839782715, 0.9692500233650208, 0.9799166917800903, 0.9850999712944031, 0.9889333248138428, 0.991183340549469, 0.9936833381652832, 0.9948333501815796, 0.9968833327293396, 0.9975500106811523, 0.9978500008583069, 0.9983333349227905, 0.9986166954040527, 0.9989833235740662, 0.9992166757583618, 0.9993333220481873, 0.9995333552360535, 0.9995333552360535, 0.9997166395187378, 0.9997666478157043, 0.9998000264167786, 0.9998499751091003, 0.9998833537101746, 0.9999333620071411, 0.999916672706604, 0.9998833537101746, 0.9999833106994629, 0.9999333620071411, 0.999916672706604, 0.9999666810035706], 'val_loss': [0.11112517863512039, 0.07001042366027832, 0.0514153353869915, 0.030485430732369423, 0.023695694282650948, 0.019052380695939064, 0.01373501867055893, 0.008877936750650406, 0.00908606220036745, 0.00596025213599205, 0.0036056835670024157, 0.0028430302627384663, 0.003550618188455701, 0.002626965520903468, 0.002224561758339405, 0.00048720583436079323, 0.0019317391561344266, 0.0002747786056715995, 0.0012260557850822806, 0.00048205265193246305, 0.00031849381048232317, 0.00043062929762527347, 0.00015375646762549877, 0.00023432796297129244, 9.049374784808606e-05, 0.00011365272075636312, 0.00039737686165608466, 9.037498784891795e-06, 1.56631285790354e-05, 5.754124867962673e-05], 'val_accuracy': [0.9693969488143921, 0.9796979427337646, 0.9849985241889954, 0.9915991425514221, 0.9932993054389954, 0.9941993951797485, 0.9965996742248535, 0.9977997541427612, 0.9974997639656067, 0.998499870300293, 0.9989998936653137, 0.9996999502182007, 0.9991999268531799, 0.999299943447113, 0.999299943447113, 1.0, 0.9994999766349792, 1.0, 0.9993999600410461, 0.9998999834060669, 0.9998999834060669, 0.9997999668121338, 1.0, 0.9998999834060669, 1.0, 1.0, 0.9997999668121338, 1.0, 1.0, 1.0]}\n"
          ]
        }
      ]
    },
    {
      "cell_type": "code",
      "source": [
        "pinta_perdida_entrenamiento_validacion(historia0)"
      ],
      "metadata": {
        "id": "OvhDZvS8-0mG",
        "colab": {
          "base_uri": "https://localhost:8080/",
          "height": 295
        },
        "outputId": "fa2de459-9774-4b7c-f7fe-8e92a6314798"
      },
      "execution_count": null,
      "outputs": [
        {
          "output_type": "display_data",
          "data": {
            "text/plain": [
              "<Figure size 432x288 with 1 Axes>"
            ],
            "image/png": "[encoded data removed]"
          },
          "metadata": {
            "needs_background": "light"
          }
        }
      ]
    },
    {
      "cell_type": "code",
      "source": [
        "pinta_precision_entrenamiento_validacion(historia0)"
      ],
      "metadata": {
        "id": "UuiL2CCH_fGN",
        "colab": {
          "base_uri": "https://localhost:8080/",
          "height": 295
        },
        "outputId": "9710c5f1-bbfa-45d4-839d-2ac34e1c18e5"
      },
      "execution_count": null,
      "outputs": [
        {
          "output_type": "display_data",
          "data": {
            "text/plain": [
              "<Figure size 432x288 with 1 Axes>"
            ],
            "image/png": "[encoded data removed]"
          },
          "metadata": {
            "needs_background": "light"
          }
        }
      ]
    },
    {
      "cell_type": "markdown",
      "source": [
        "### Caso 1: Con regularizador l1"
      ],
      "metadata": {
        "id": "pw6iBGO5Bg8J"
      }
    },
    {
      "cell_type": "code",
      "source": [
        "network1 = crea_modelo(1)"
      ],
      "metadata": {
        "id": "D6JPtw5zCz-1",
        "colab": {
          "base_uri": "https://localhost:8080/"
        },
        "outputId": "2055307e-fe69-4104-e067-680d25988579"
      },
      "execution_count": null,
      "outputs": [
        {
          "output_type": "stream",
          "name": "stdout",
          "text": [
            "Model: \"sequential_2\"\n",
            "_________________________________________________________________\n",
            " Layer (type)                Output Shape              Param #   \n",
            "=================================================================\n",
            " dense_4 (Dense)             (None, 512)               401920    \n",
            "                                                                 \n",
            " dense_5 (Dense)             (None, 10)                5130      \n",
            "                                                                 \n",
            "=================================================================\n",
            "Total params: 407,050\n",
            "Trainable params: 407,050\n",
            "Non-trainable params: 0\n",
            "_________________________________________________________________\n"
          ]
        }
      ]
    },
    {
      "cell_type": "code",
      "source": [
        "network1 = compila_modelo(network1)"
      ],
      "metadata": {
        "id": "zL3Gp7wvFRq3"
      },
      "execution_count": null,
      "outputs": []
    },
    {
      "cell_type": "code",
      "source": [
        "historia1 = entrena_modelo(network1)"
      ],
      "metadata": {
        "id": "G2FG1Z4xFW72",
        "colab": {
          "base_uri": "https://localhost:8080/"
        },
        "outputId": "4434adf8-32a7-4625-a96b-fb431079039c"
      },
      "execution_count": null,
      "outputs": [
        {
          "output_type": "stream",
          "name": "stdout",
          "text": [
            "Epoch 1/30\n",
            "469/469 [==============================] - 8s 16ms/step - loss: 1.9494 - accuracy: 0.8510 - val_loss: 0.9530 - val_accuracy: 0.8893\n",
            "Epoch 2/30\n",
            "469/469 [==============================] - 7s 16ms/step - loss: 0.9103 - accuracy: 0.8882 - val_loss: 0.8421 - val_accuracy: 0.8989\n",
            "Epoch 3/30\n",
            "469/469 [==============================] - 7s 16ms/step - loss: 0.7858 - accuracy: 0.9104 - val_loss: 0.7257 - val_accuracy: 0.9253\n",
            "Epoch 4/30\n",
            "469/469 [==============================] - 7s 16ms/step - loss: 0.7126 - accuracy: 0.9236 - val_loss: 0.6446 - val_accuracy: 0.9390\n",
            "Epoch 5/30\n",
            "469/469 [==============================] - 7s 16ms/step - loss: 0.6661 - accuracy: 0.9321 - val_loss: 0.6339 - val_accuracy: 0.9406\n",
            "Epoch 6/30\n",
            "469/469 [==============================] - 7s 16ms/step - loss: 0.6343 - accuracy: 0.9362 - val_loss: 0.5855 - val_accuracy: 0.9488\n",
            "Epoch 7/30\n",
            "469/469 [==============================] - 7s 16ms/step - loss: 0.6101 - accuracy: 0.9404 - val_loss: 0.6023 - val_accuracy: 0.9438\n",
            "Epoch 8/30\n",
            "469/469 [==============================] - 7s 16ms/step - loss: 0.5913 - accuracy: 0.9429 - val_loss: 0.5545 - val_accuracy: 0.9566\n",
            "Epoch 9/30\n",
            "469/469 [==============================] - 7s 16ms/step - loss: 0.5745 - accuracy: 0.9460 - val_loss: 0.5538 - val_accuracy: 0.9512\n",
            "Epoch 10/30\n",
            "469/469 [==============================] - 7s 16ms/step - loss: 0.5640 - accuracy: 0.9473 - val_loss: 0.5322 - val_accuracy: 0.9606\n",
            "Epoch 11/30\n",
            "469/469 [==============================] - 7s 16ms/step - loss: 0.5528 - accuracy: 0.9497 - val_loss: 0.5134 - val_accuracy: 0.9602\n",
            "Epoch 12/30\n",
            "469/469 [==============================] - 7s 16ms/step - loss: 0.5432 - accuracy: 0.9517 - val_loss: 0.5313 - val_accuracy: 0.9544\n",
            "Epoch 13/30\n",
            "469/469 [==============================] - 7s 15ms/step - loss: 0.5366 - accuracy: 0.9508 - val_loss: 0.5144 - val_accuracy: 0.9596\n",
            "Epoch 14/30\n",
            "469/469 [==============================] - 7s 16ms/step - loss: 0.5288 - accuracy: 0.9535 - val_loss: 0.5232 - val_accuracy: 0.9520\n",
            "Epoch 15/30\n",
            "469/469 [==============================] - 7s 16ms/step - loss: 0.5229 - accuracy: 0.9540 - val_loss: 0.4919 - val_accuracy: 0.9657\n",
            "Epoch 16/30\n",
            "469/469 [==============================] - 8s 16ms/step - loss: 0.5158 - accuracy: 0.9549 - val_loss: 0.4834 - val_accuracy: 0.9655\n",
            "Epoch 17/30\n",
            "469/469 [==============================] - 8s 16ms/step - loss: 0.5101 - accuracy: 0.9564 - val_loss: 0.4854 - val_accuracy: 0.9661\n",
            "Epoch 18/30\n",
            "469/469 [==============================] - 8s 16ms/step - loss: 0.5052 - accuracy: 0.9562 - val_loss: 0.4864 - val_accuracy: 0.9647\n",
            "Epoch 19/30\n",
            "469/469 [==============================] - 8s 17ms/step - loss: 0.5020 - accuracy: 0.9565 - val_loss: 0.4782 - val_accuracy: 0.9648\n",
            "Epoch 20/30\n",
            "469/469 [==============================] - 8s 16ms/step - loss: 0.4972 - accuracy: 0.9575 - val_loss: 0.4755 - val_accuracy: 0.9640\n",
            "Epoch 21/30\n",
            "469/469 [==============================] - 7s 16ms/step - loss: 0.4938 - accuracy: 0.9575 - val_loss: 0.4630 - val_accuracy: 0.9693\n",
            "Epoch 22/30\n",
            "469/469 [==============================] - 7s 16ms/step - loss: 0.4916 - accuracy: 0.9586 - val_loss: 0.5027 - val_accuracy: 0.9570\n",
            "Epoch 23/30\n",
            "469/469 [==============================] - 7s 16ms/step - loss: 0.4884 - accuracy: 0.9576 - val_loss: 0.4773 - val_accuracy: 0.9622\n",
            "Epoch 24/30\n",
            "469/469 [==============================] - 7s 16ms/step - loss: 0.4865 - accuracy: 0.9588 - val_loss: 0.4631 - val_accuracy: 0.9675\n",
            "Epoch 25/30\n",
            "469/469 [==============================] - 7s 16ms/step - loss: 0.4840 - accuracy: 0.9592 - val_loss: 0.5441 - val_accuracy: 0.9405\n",
            "Epoch 26/30\n",
            "469/469 [==============================] - 7s 16ms/step - loss: 0.4825 - accuracy: 0.9594 - val_loss: 0.4726 - val_accuracy: 0.9644\n",
            "Epoch 27/30\n",
            "469/469 [==============================] - 7s 16ms/step - loss: 0.4799 - accuracy: 0.9590 - val_loss: 0.4771 - val_accuracy: 0.9639\n",
            "Epoch 28/30\n",
            "469/469 [==============================] - 7s 16ms/step - loss: 0.4750 - accuracy: 0.9610 - val_loss: 0.4452 - val_accuracy: 0.9693\n",
            "Epoch 29/30\n",
            "469/469 [==============================] - 7s 16ms/step - loss: 0.4752 - accuracy: 0.9599 - val_loss: 0.4576 - val_accuracy: 0.9664\n",
            "Epoch 30/30\n",
            "469/469 [==============================] - 7s 16ms/step - loss: 0.4731 - accuracy: 0.9603 - val_loss: 0.4669 - val_accuracy: 0.9631\n"
          ]
        }
      ]
    },
    {
      "cell_type": "code",
      "source": [
        "pinta_perdida_entrenamiento_validacion(historia1)"
      ],
      "metadata": {
        "id": "Vyv3yFtiFitw",
        "colab": {
          "base_uri": "https://localhost:8080/",
          "height": 295
        },
        "outputId": "3ef23f5d-59ef-42b9-9f25-b2f5ed174c06"
      },
      "execution_count": null,
      "outputs": [
        {
          "output_type": "display_data",
          "data": {
            "text/plain": [
              "<Figure size 432x288 with 1 Axes>"
            ],
            "image/png": "[encoded data removed]"
          },
          "metadata": {
            "needs_background": "light"
          }
        }
      ]
    },
    {
      "cell_type": "code",
      "source": [
        "pinta_precision_entrenamiento_validacion(historia1)"
      ],
      "metadata": {
        "id": "pVUerJsqFo7K",
        "colab": {
          "base_uri": "https://localhost:8080/",
          "height": 295
        },
        "outputId": "03af52c0-fbc1-4a90-a359-8e631a7224ca"
      },
      "execution_count": null,
      "outputs": [
        {
          "output_type": "display_data",
          "data": {
            "text/plain": [
              "<Figure size 432x288 with 1 Axes>"
            ],
            "image/png": "[encoded data removed]"
          },
          "metadata": {
            "needs_background": "light"
          }
        }
      ]
    },
    {
      "cell_type": "markdown",
      "source": [
        "### Caso 2: Con regularizador l2"
      ],
      "metadata": {
        "id": "hklwKNlMBzya"
      }
    },
    {
      "cell_type": "code",
      "source": [
        "network2 = crea_modelo(2)"
      ],
      "metadata": {
        "id": "tjIs0FziG5Ja",
        "colab": {
          "base_uri": "https://localhost:8080/"
        },
        "outputId": "850ad02d-be84-4d05-9606-b06f8c75b027"
      },
      "execution_count": null,
      "outputs": [
        {
          "output_type": "stream",
          "name": "stdout",
          "text": [
            "Model: \"sequential_3\"\n",
            "_________________________________________________________________\n",
            " Layer (type)                Output Shape              Param #   \n",
            "=================================================================\n",
            " dense_6 (Dense)             (None, 512)               401920    \n",
            "                                                                 \n",
            " dense_7 (Dense)             (None, 10)                5130      \n",
            "                                                                 \n",
            "=================================================================\n",
            "Total params: 407,050\n",
            "Trainable params: 407,050\n",
            "Non-trainable params: 0\n",
            "_________________________________________________________________\n"
          ]
        }
      ]
    },
    {
      "cell_type": "code",
      "source": [
        "network2 = compila_modelo(network2)"
      ],
      "metadata": {
        "id": "UCdA0K_qyTUq"
      },
      "execution_count": null,
      "outputs": []
    },
    {
      "cell_type": "code",
      "source": [
        "historia2 = entrena_modelo(network2)"
      ],
      "metadata": {
        "id": "WSuomx5oybpu",
        "colab": {
          "base_uri": "https://localhost:8080/"
        },
        "outputId": "315a631a-b8ba-4728-9eb3-32ec29c01b72"
      },
      "execution_count": null,
      "outputs": [
        {
          "output_type": "stream",
          "name": "stdout",
          "text": [
            "Epoch 1/30\n",
            "469/469 [==============================] - 34s 72ms/step - loss: 0.4856 - accuracy: 0.9188 - val_loss: 0.2658 - val_accuracy: 0.9586\n",
            "Epoch 2/30\n",
            "469/469 [==============================] - 9s 18ms/step - loss: 0.2417 - accuracy: 0.9577 - val_loss: 0.1833 - val_accuracy: 0.9726\n",
            "Epoch 3/30\n",
            "469/469 [==============================] - 8s 17ms/step - loss: 0.1973 - accuracy: 0.9649 - val_loss: 0.1536 - val_accuracy: 0.9778\n",
            "Epoch 4/30\n",
            "469/469 [==============================] - 8s 17ms/step - loss: 0.1776 - accuracy: 0.9680 - val_loss: 0.1728 - val_accuracy: 0.9696\n",
            "Epoch 5/30\n",
            "469/469 [==============================] - 7s 15ms/step - loss: 0.1666 - accuracy: 0.9704 - val_loss: 0.1375 - val_accuracy: 0.9803\n",
            "Epoch 6/30\n",
            "469/469 [==============================] - 7s 15ms/step - loss: 0.1579 - accuracy: 0.9727 - val_loss: 0.1335 - val_accuracy: 0.9800\n",
            "Epoch 7/30\n",
            "469/469 [==============================] - 7s 15ms/step - loss: 0.1521 - accuracy: 0.9731 - val_loss: 0.1449 - val_accuracy: 0.9749\n",
            "Epoch 8/30\n",
            "469/469 [==============================] - 7s 16ms/step - loss: 0.1483 - accuracy: 0.9743 - val_loss: 0.1228 - val_accuracy: 0.9821\n",
            "Epoch 9/30\n",
            "469/469 [==============================] - 7s 15ms/step - loss: 0.1436 - accuracy: 0.9755 - val_loss: 0.1175 - val_accuracy: 0.9842\n",
            "Epoch 10/30\n",
            "469/469 [==============================] - 7s 15ms/step - loss: 0.1401 - accuracy: 0.9755 - val_loss: 0.1385 - val_accuracy: 0.9739\n",
            "Epoch 11/30\n",
            "469/469 [==============================] - 7s 15ms/step - loss: 0.1368 - accuracy: 0.9764 - val_loss: 0.1210 - val_accuracy: 0.9815\n",
            "Epoch 12/30\n",
            "469/469 [==============================] - 7s 15ms/step - loss: 0.1330 - accuracy: 0.9772 - val_loss: 0.1255 - val_accuracy: 0.9794\n",
            "Epoch 13/30\n",
            "469/469 [==============================] - 7s 15ms/step - loss: 0.1311 - accuracy: 0.9771 - val_loss: 0.1090 - val_accuracy: 0.9856\n",
            "Epoch 14/30\n",
            "469/469 [==============================] - 7s 15ms/step - loss: 0.1296 - accuracy: 0.9779 - val_loss: 0.1112 - val_accuracy: 0.9842\n",
            "Epoch 15/30\n",
            "469/469 [==============================] - 7s 15ms/step - loss: 0.1274 - accuracy: 0.9778 - val_loss: 0.1233 - val_accuracy: 0.9791\n",
            "Epoch 16/30\n",
            "469/469 [==============================] - 7s 15ms/step - loss: 0.1244 - accuracy: 0.9790 - val_loss: 0.1156 - val_accuracy: 0.9802\n",
            "Epoch 17/30\n",
            "469/469 [==============================] - 7s 16ms/step - loss: 0.1224 - accuracy: 0.9790 - val_loss: 0.1026 - val_accuracy: 0.9863\n",
            "Epoch 18/30\n",
            "469/469 [==============================] - 7s 15ms/step - loss: 0.1206 - accuracy: 0.9793 - val_loss: 0.1037 - val_accuracy: 0.9833\n",
            "Epoch 19/30\n",
            "469/469 [==============================] - 7s 15ms/step - loss: 0.1200 - accuracy: 0.9796 - val_loss: 0.1087 - val_accuracy: 0.9832\n",
            "Epoch 20/30\n",
            "469/469 [==============================] - 7s 15ms/step - loss: 0.1167 - accuracy: 0.9802 - val_loss: 0.0951 - val_accuracy: 0.9878\n",
            "Epoch 21/30\n",
            "469/469 [==============================] - 7s 16ms/step - loss: 0.1162 - accuracy: 0.9814 - val_loss: 0.0931 - val_accuracy: 0.9873\n",
            "Epoch 22/30\n",
            "469/469 [==============================] - 7s 15ms/step - loss: 0.1146 - accuracy: 0.9804 - val_loss: 0.1045 - val_accuracy: 0.9844\n",
            "Epoch 23/30\n",
            "469/469 [==============================] - 7s 15ms/step - loss: 0.1139 - accuracy: 0.9810 - val_loss: 0.0929 - val_accuracy: 0.9870\n",
            "Epoch 24/30\n",
            "469/469 [==============================] - 7s 15ms/step - loss: 0.1118 - accuracy: 0.9806 - val_loss: 0.1065 - val_accuracy: 0.9827\n",
            "Epoch 25/30\n",
            "469/469 [==============================] - 7s 15ms/step - loss: 0.1110 - accuracy: 0.9808 - val_loss: 0.1019 - val_accuracy: 0.9845\n",
            "Epoch 26/30\n",
            "469/469 [==============================] - 7s 15ms/step - loss: 0.1098 - accuracy: 0.9811 - val_loss: 0.0922 - val_accuracy: 0.9882\n",
            "Epoch 27/30\n",
            "469/469 [==============================] - 7s 15ms/step - loss: 0.1082 - accuracy: 0.9816 - val_loss: 0.0999 - val_accuracy: 0.9849\n",
            "Epoch 28/30\n",
            "469/469 [==============================] - 7s 15ms/step - loss: 0.1069 - accuracy: 0.9820 - val_loss: 0.0898 - val_accuracy: 0.9872\n",
            "Epoch 29/30\n",
            "469/469 [==============================] - 7s 15ms/step - loss: 0.1060 - accuracy: 0.9825 - val_loss: 0.0877 - val_accuracy: 0.9888\n",
            "Epoch 30/30\n",
            "469/469 [==============================] - 7s 15ms/step - loss: 0.1054 - accuracy: 0.9820 - val_loss: 0.1029 - val_accuracy: 0.9830\n"
          ]
        }
      ]
    },
    {
      "cell_type": "code",
      "source": [
        "pinta_perdida_entrenamiento_validacion(historia2)"
      ],
      "metadata": {
        "id": "aXXzm8tpyj6X",
        "colab": {
          "base_uri": "https://localhost:8080/",
          "height": 295
        },
        "outputId": "ff434cb2-74c7-43db-e02c-d97f52bca44e"
      },
      "execution_count": null,
      "outputs": [
        {
          "output_type": "display_data",
          "data": {
            "text/plain": [
              "<Figure size 432x288 with 1 Axes>"
            ],
            "image/png": "[encoded data removed]"
          },
          "metadata": {
            "needs_background": "light"
          }
        }
      ]
    },
    {
      "cell_type": "code",
      "source": [
        "pinta_precision_entrenamiento_validacion(historia2)"
      ],
      "metadata": {
        "id": "CLTsg5LTypH9",
        "colab": {
          "base_uri": "https://localhost:8080/",
          "height": 295
        },
        "outputId": "d1b2e63f-464e-4faf-df50-d8680bc2c51c"
      },
      "execution_count": null,
      "outputs": [
        {
          "output_type": "display_data",
          "data": {
            "text/plain": [
              "<Figure size 432x288 with 1 Axes>"
            ],
            "image/png": "[encoded data removed]"
          },
          "metadata": {
            "needs_background": "light"
          }
        }
      ]
    },
    {
      "cell_type": "markdown",
      "source": [
        "### Caso 3: Con regularizador l1_l2"
      ],
      "metadata": {
        "id": "692oWz8oB82n"
      }
    },
    {
      "cell_type": "code",
      "source": [
        "network3 = crea_modelo(3)"
      ],
      "metadata": {
        "id": "5fdxkjoKzFcu",
        "colab": {
          "base_uri": "https://localhost:8080/"
        },
        "outputId": "7314f134-bfab-4674-c388-3ebe425ffb62"
      },
      "execution_count": null,
      "outputs": [
        {
          "output_type": "stream",
          "name": "stdout",
          "text": [
            "Model: \"sequential_6\"\n",
            "_________________________________________________________________\n",
            " Layer (type)                Output Shape              Param #   \n",
            "=================================================================\n",
            " dense_8 (Dense)             (None, 512)               401920    \n",
            "                                                                 \n",
            " dense_9 (Dense)             (None, 10)                5130      \n",
            "                                                                 \n",
            "=================================================================\n",
            "Total params: 407,050\n",
            "Trainable params: 407,050\n",
            "Non-trainable params: 0\n",
            "_________________________________________________________________\n"
          ]
        }
      ]
    },
    {
      "cell_type": "code",
      "source": [
        "network3 = compila_modelo(network3)"
      ],
      "metadata": {
        "id": "VJzs9A2yzPhx"
      },
      "execution_count": null,
      "outputs": []
    },
    {
      "cell_type": "code",
      "source": [
        "historia3 = entrena_modelo(network3)"
      ],
      "metadata": {
        "id": "1JCUbcCQzY6E",
        "colab": {
          "base_uri": "https://localhost:8080/"
        },
        "outputId": "768bfffb-2777-4034-c69b-9602f7ceb004"
      },
      "execution_count": null,
      "outputs": [
        {
          "output_type": "stream",
          "name": "stdout",
          "text": [
            "Epoch 1/30\n",
            "469/469 [==============================] - 9s 17ms/step - loss: 1.9767 - accuracy: 0.8474 - val_loss: 0.9983 - val_accuracy: 0.8834\n",
            "Epoch 2/30\n",
            "469/469 [==============================] - 8s 17ms/step - loss: 0.9261 - accuracy: 0.8876 - val_loss: 0.8542 - val_accuracy: 0.8959\n",
            "Epoch 3/30\n",
            "469/469 [==============================] - 8s 17ms/step - loss: 0.8075 - accuracy: 0.9073 - val_loss: 0.7198 - val_accuracy: 0.9291\n",
            "Epoch 4/30\n",
            "469/469 [==============================] - 8s 17ms/step - loss: 0.7386 - accuracy: 0.9191 - val_loss: 0.6968 - val_accuracy: 0.9272\n",
            "Epoch 5/30\n",
            "469/469 [==============================] - 8s 17ms/step - loss: 0.6895 - accuracy: 0.9283 - val_loss: 0.6327 - val_accuracy: 0.9455\n",
            "Epoch 6/30\n",
            "469/469 [==============================] - 8s 17ms/step - loss: 0.6531 - accuracy: 0.9338 - val_loss: 0.6100 - val_accuracy: 0.9460\n",
            "Epoch 7/30\n",
            "469/469 [==============================] - 8s 16ms/step - loss: 0.6266 - accuracy: 0.9387 - val_loss: 0.5947 - val_accuracy: 0.9504\n",
            "Epoch 8/30\n",
            "469/469 [==============================] - 8s 17ms/step - loss: 0.6064 - accuracy: 0.9418 - val_loss: 0.5678 - val_accuracy: 0.9527\n",
            "Epoch 9/30\n",
            "469/469 [==============================] - 8s 17ms/step - loss: 0.5897 - accuracy: 0.9455 - val_loss: 0.5478 - val_accuracy: 0.9581\n",
            "Epoch 10/30\n",
            "469/469 [==============================] - 8s 17ms/step - loss: 0.5758 - accuracy: 0.9465 - val_loss: 0.5434 - val_accuracy: 0.9607\n",
            "Epoch 11/30\n",
            "469/469 [==============================] - 8s 17ms/step - loss: 0.5649 - accuracy: 0.9482 - val_loss: 0.5308 - val_accuracy: 0.9603\n",
            "Epoch 12/30\n",
            "469/469 [==============================] - 8s 17ms/step - loss: 0.5549 - accuracy: 0.9502 - val_loss: 0.5250 - val_accuracy: 0.9577\n",
            "Epoch 13/30\n",
            "469/469 [==============================] - 8s 17ms/step - loss: 0.5462 - accuracy: 0.9517 - val_loss: 0.5181 - val_accuracy: 0.9629\n",
            "Epoch 14/30\n",
            "469/469 [==============================] - 10s 22ms/step - loss: 0.5395 - accuracy: 0.9521 - val_loss: 0.5725 - val_accuracy: 0.9442\n",
            "Epoch 15/30\n",
            "469/469 [==============================] - 10s 22ms/step - loss: 0.5336 - accuracy: 0.9532 - val_loss: 0.5101 - val_accuracy: 0.9624\n",
            "Epoch 16/30\n",
            "469/469 [==============================] - 8s 17ms/step - loss: 0.5275 - accuracy: 0.9536 - val_loss: 0.5280 - val_accuracy: 0.9571\n",
            "Epoch 17/30\n",
            "469/469 [==============================] - 8s 17ms/step - loss: 0.5212 - accuracy: 0.9548 - val_loss: 0.4949 - val_accuracy: 0.9626\n",
            "Epoch 18/30\n",
            "469/469 [==============================] - 8s 17ms/step - loss: 0.5172 - accuracy: 0.9564 - val_loss: 0.4900 - val_accuracy: 0.9649\n",
            "Epoch 19/30\n",
            "469/469 [==============================] - 8s 17ms/step - loss: 0.5126 - accuracy: 0.9576 - val_loss: 0.5027 - val_accuracy: 0.9610\n",
            "Epoch 20/30\n",
            "469/469 [==============================] - 9s 18ms/step - loss: 0.5087 - accuracy: 0.9578 - val_loss: 0.5261 - val_accuracy: 0.9529\n",
            "Epoch 21/30\n",
            "469/469 [==============================] - 11s 24ms/step - loss: 0.5065 - accuracy: 0.9567 - val_loss: 0.4774 - val_accuracy: 0.9658\n",
            "Epoch 22/30\n",
            "469/469 [==============================] - 9s 18ms/step - loss: 0.5034 - accuracy: 0.9580 - val_loss: 0.4776 - val_accuracy: 0.9661\n",
            "Epoch 23/30\n",
            "469/469 [==============================] - 9s 19ms/step - loss: 0.5002 - accuracy: 0.9579 - val_loss: 0.4808 - val_accuracy: 0.9665\n",
            "Epoch 24/30\n",
            "469/469 [==============================] - 9s 20ms/step - loss: 0.4965 - accuracy: 0.9591 - val_loss: 0.4567 - val_accuracy: 0.9708\n",
            "Epoch 25/30\n",
            "469/469 [==============================] - 9s 19ms/step - loss: 0.4954 - accuracy: 0.9589 - val_loss: 0.4923 - val_accuracy: 0.9611\n",
            "Epoch 26/30\n",
            "469/469 [==============================] - 9s 18ms/step - loss: 0.4920 - accuracy: 0.9589 - val_loss: 0.5060 - val_accuracy: 0.9561\n",
            "Epoch 27/30\n",
            "469/469 [==============================] - 8s 17ms/step - loss: 0.4915 - accuracy: 0.9584 - val_loss: 0.4806 - val_accuracy: 0.9628\n",
            "Epoch 28/30\n",
            "469/469 [==============================] - 8s 17ms/step - loss: 0.4879 - accuracy: 0.9601 - val_loss: 0.4539 - val_accuracy: 0.9723\n",
            "Epoch 29/30\n",
            "469/469 [==============================] - 8s 17ms/step - loss: 0.4873 - accuracy: 0.9592 - val_loss: 0.4513 - val_accuracy: 0.9718\n",
            "Epoch 30/30\n",
            "469/469 [==============================] - 8s 17ms/step - loss: 0.4857 - accuracy: 0.9594 - val_loss: 0.4548 - val_accuracy: 0.9708\n"
          ]
        }
      ]
    },
    {
      "cell_type": "code",
      "source": [
        "pinta_perdida_entrenamiento_validacion(historia3)"
      ],
      "metadata": {
        "id": "I8XzPVtyze8y",
        "colab": {
          "base_uri": "https://localhost:8080/",
          "height": 295
        },
        "outputId": "683c07f8-ad0c-43a8-ee2f-f15ee20e73d8"
      },
      "execution_count": null,
      "outputs": [
        {
          "output_type": "display_data",
          "data": {
            "text/plain": [
              "<Figure size 432x288 with 1 Axes>"
            ],
            "image/png": "[encoded data removed]"
          },
          "metadata": {
            "needs_background": "light"
          }
        }
      ]
    },
    {
      "cell_type": "code",
      "source": [
        "pinta_precision_entrenamiento_validacion(historia3)"
      ],
      "metadata": {
        "id": "nKk7AmM8zi3A",
        "colab": {
          "base_uri": "https://localhost:8080/",
          "height": 295
        },
        "outputId": "30b781a8-9691-4e8c-895f-30cff3909260"
      },
      "execution_count": null,
      "outputs": [
        {
          "output_type": "display_data",
          "data": {
            "text/plain": [
              "<Figure size 432x288 with 1 Axes>"
            ],
            "image/png": "[encoded data removed]"
          },
          "metadata": {
            "needs_background": "light"
          }
        }
      ]
    },
    {
      "cell_type": "markdown",
      "source": [
        "### Caso 4: Con Droput"
      ],
      "metadata": {
        "id": "OPVcbgcXCFRL"
      }
    },
    {
      "cell_type": "code",
      "source": [
        "network4 = crea_modelo(4)"
      ],
      "metadata": {
        "id": "5MVbUNX11Pgr",
        "colab": {
          "base_uri": "https://localhost:8080/"
        },
        "outputId": "37d37849-5642-4e44-a8dd-a9cf363cde4e"
      },
      "execution_count": null,
      "outputs": [
        {
          "output_type": "stream",
          "name": "stdout",
          "text": [
            "Model: \"sequential_18\"\n",
            "_________________________________________________________________\n",
            " Layer (type)                Output Shape              Param #   \n",
            "=================================================================\n",
            " dense_17 (Dense)            (None, 512)               401920    \n",
            "                                                                 \n",
            " dropout_1 (Dropout)         (None, 512)               0         \n",
            "                                                                 \n",
            " dense_18 (Dense)            (None, 10)                5130      \n",
            "                                                                 \n",
            "=================================================================\n",
            "Total params: 407,050\n",
            "Trainable params: 407,050\n",
            "Non-trainable params: 0\n",
            "_________________________________________________________________\n"
          ]
        }
      ]
    },
    {
      "cell_type": "code",
      "source": [
        "network4 = compila_modelo(network4)"
      ],
      "metadata": {
        "id": "pT-13IKI1UpW"
      },
      "execution_count": null,
      "outputs": []
    },
    {
      "cell_type": "code",
      "source": [
        "historia4 = entrena_modelo(network4)"
      ],
      "metadata": {
        "id": "kNWidx1S1aCH",
        "colab": {
          "base_uri": "https://localhost:8080/"
        },
        "outputId": "fcc0ac5c-4f57-4a8e-a074-b863e3155461"
      },
      "execution_count": null,
      "outputs": [
        {
          "output_type": "stream",
          "name": "stdout",
          "text": [
            "Epoch 1/30\n",
            "469/469 [==============================] - 8s 16ms/step - loss: 0.3139 - accuracy: 0.9079 - val_loss: 0.1221 - val_accuracy: 0.9659\n",
            "Epoch 2/30\n",
            "469/469 [==============================] - 7s 15ms/step - loss: 0.1522 - accuracy: 0.9547 - val_loss: 0.0857 - val_accuracy: 0.9758\n",
            "Epoch 3/30\n",
            "469/469 [==============================] - 8s 18ms/step - loss: 0.1172 - accuracy: 0.9652 - val_loss: 0.0640 - val_accuracy: 0.9806\n",
            "Epoch 4/30\n",
            "469/469 [==============================] - 9s 19ms/step - loss: 0.0982 - accuracy: 0.9706 - val_loss: 0.0492 - val_accuracy: 0.9853\n",
            "Epoch 5/30\n",
            "469/469 [==============================] - 7s 15ms/step - loss: 0.0856 - accuracy: 0.9739 - val_loss: 0.0452 - val_accuracy: 0.9870\n",
            "Epoch 6/30\n",
            "469/469 [==============================] - 7s 15ms/step - loss: 0.0774 - accuracy: 0.9774 - val_loss: 0.0364 - val_accuracy: 0.9899\n",
            "Epoch 7/30\n",
            "469/469 [==============================] - 8s 17ms/step - loss: 0.0728 - accuracy: 0.9789 - val_loss: 0.0337 - val_accuracy: 0.9905\n",
            "Epoch 8/30\n",
            "469/469 [==============================] - 7s 14ms/step - loss: 0.0661 - accuracy: 0.9803 - val_loss: 0.0277 - val_accuracy: 0.9921\n",
            "Epoch 9/30\n",
            "469/469 [==============================] - 7s 16ms/step - loss: 0.0613 - accuracy: 0.9816 - val_loss: 0.0268 - val_accuracy: 0.9929\n",
            "Epoch 10/30\n",
            "469/469 [==============================] - 7s 15ms/step - loss: 0.0560 - accuracy: 0.9828 - val_loss: 0.0234 - val_accuracy: 0.9935\n",
            "Epoch 11/30\n",
            "469/469 [==============================] - 7s 15ms/step - loss: 0.0543 - accuracy: 0.9840 - val_loss: 0.0277 - val_accuracy: 0.9918\n",
            "Epoch 12/30\n",
            "469/469 [==============================] - 7s 15ms/step - loss: 0.0519 - accuracy: 0.9843 - val_loss: 0.0189 - val_accuracy: 0.9944\n",
            "Epoch 13/30\n",
            "469/469 [==============================] - 7s 14ms/step - loss: 0.0493 - accuracy: 0.9858 - val_loss: 0.0206 - val_accuracy: 0.9939\n",
            "Epoch 14/30\n",
            "469/469 [==============================] - 9s 18ms/step - loss: 0.0465 - accuracy: 0.9857 - val_loss: 0.0157 - val_accuracy: 0.9956\n",
            "Epoch 15/30\n",
            "469/469 [==============================] - 7s 15ms/step - loss: 0.0442 - accuracy: 0.9875 - val_loss: 0.0154 - val_accuracy: 0.9957\n",
            "Epoch 16/30\n",
            "469/469 [==============================] - 7s 15ms/step - loss: 0.0429 - accuracy: 0.9870 - val_loss: 0.0164 - val_accuracy: 0.9957\n",
            "Epoch 17/30\n",
            "469/469 [==============================] - 7s 15ms/step - loss: 0.0427 - accuracy: 0.9877 - val_loss: 0.0142 - val_accuracy: 0.9964\n",
            "Epoch 18/30\n",
            "469/469 [==============================] - 7s 15ms/step - loss: 0.0384 - accuracy: 0.9885 - val_loss: 0.0132 - val_accuracy: 0.9974\n",
            "Epoch 19/30\n",
            "469/469 [==============================] - 7s 14ms/step - loss: 0.0375 - accuracy: 0.9894 - val_loss: 0.0126 - val_accuracy: 0.9964\n",
            "Epoch 20/30\n",
            "469/469 [==============================] - 7s 15ms/step - loss: 0.0364 - accuracy: 0.9895 - val_loss: 0.0095 - val_accuracy: 0.9979\n",
            "Epoch 21/30\n",
            "469/469 [==============================] - 7s 15ms/step - loss: 0.0337 - accuracy: 0.9901 - val_loss: 0.0103 - val_accuracy: 0.9972\n",
            "Epoch 22/30\n",
            "469/469 [==============================] - 7s 15ms/step - loss: 0.0324 - accuracy: 0.9904 - val_loss: 0.0086 - val_accuracy: 0.9978\n",
            "Epoch 23/30\n",
            "469/469 [==============================] - 7s 15ms/step - loss: 0.0342 - accuracy: 0.9901 - val_loss: 0.0083 - val_accuracy: 0.9978\n",
            "Epoch 24/30\n",
            "469/469 [==============================] - 7s 14ms/step - loss: 0.0327 - accuracy: 0.9908 - val_loss: 0.0077 - val_accuracy: 0.9975\n",
            "Epoch 25/30\n",
            "469/469 [==============================] - 7s 14ms/step - loss: 0.0328 - accuracy: 0.9901 - val_loss: 0.0083 - val_accuracy: 0.9981\n",
            "Epoch 26/30\n",
            "469/469 [==============================] - 7s 14ms/step - loss: 0.0315 - accuracy: 0.9906 - val_loss: 0.0066 - val_accuracy: 0.9988\n",
            "Epoch 27/30\n",
            "469/469 [==============================] - 7s 15ms/step - loss: 0.0318 - accuracy: 0.9907 - val_loss: 0.0070 - val_accuracy: 0.9983\n",
            "Epoch 28/30\n",
            "469/469 [==============================] - 7s 14ms/step - loss: 0.0313 - accuracy: 0.9907 - val_loss: 0.0069 - val_accuracy: 0.9985\n",
            "Epoch 29/30\n",
            "469/469 [==============================] - 7s 15ms/step - loss: 0.0265 - accuracy: 0.9921 - val_loss: 0.0070 - val_accuracy: 0.9988\n",
            "Epoch 30/30\n",
            "469/469 [==============================] - 7s 15ms/step - loss: 0.0308 - accuracy: 0.9916 - val_loss: 0.0066 - val_accuracy: 0.9985\n"
          ]
        }
      ]
    },
    {
      "cell_type": "code",
      "source": [
        "pinta_perdida_entrenamiento_validacion(historia4)"
      ],
      "metadata": {
        "id": "R9pI34Yr1gBO",
        "colab": {
          "base_uri": "https://localhost:8080/",
          "height": 295
        },
        "outputId": "2466cdc2-c68d-4506-9d07-918d66b2feb0"
      },
      "execution_count": null,
      "outputs": [
        {
          "output_type": "display_data",
          "data": {
            "text/plain": [
              "<Figure size 432x288 with 1 Axes>"
            ],
            "image/png": "[encoded data removed]"
          },
          "metadata": {
            "needs_background": "light"
          }
        }
      ]
    },
    {
      "cell_type": "code",
      "source": [
        "pinta_precision_entrenamiento_validacion(historia4)"
      ],
      "metadata": {
        "id": "EwEIEOKx1lQr",
        "colab": {
          "base_uri": "https://localhost:8080/",
          "height": 295
        },
        "outputId": "4ef154eb-bd2b-4c28-afb5-a5c01d1c929b"
      },
      "execution_count": null,
      "outputs": [
        {
          "output_type": "display_data",
          "data": {
            "text/plain": [
              "<Figure size 432x288 with 1 Axes>"
            ],
            "image/png": "[encoded data removed]"
          },
          "metadata": {
            "needs_background": "light"
          }
        }
      ]
    },
    {
      "cell_type": "markdown",
      "source": [
        "### Caso 5: Error de código de regularizador"
      ],
      "metadata": {
        "id": "e6rlKx2nCOgU"
      }
    },
    {
      "cell_type": "code",
      "source": [
        "network5 = crea_modelo(5)"
      ],
      "metadata": {
        "id": "SqGDm8VM1rwR",
        "outputId": "78ed828a-5f6e-4bd5-b510-b794e4d77b86",
        "colab": {
          "base_uri": "https://localhost:8080/"
        }
      },
      "execution_count": null,
      "outputs": [
        {
          "output_type": "stream",
          "name": "stdout",
          "text": [
            "ERROR. No existe esa opción\n"
          ]
        }
      ]
    },
    {
      "cell_type": "markdown",
      "source": [
        "### CONCLUSIONES"
      ],
      "metadata": {
        "id": "IklUu29cCcVe"
      }
    },
    {
      "cell_type": "markdown",
      "source": [
        " - El caso 0 alcanza la perfección al predecir las imágenes (accuracy=100%).\n",
        " - El caso 1 tiene ligeramente menos perfección (accuracy=96%).\n",
        " - El caso 2 tiene más perfección (accuracy=98%).\n",
        " - El caso 3 es intermedio entre el caso 1 y 3 (accuracy=97%)\n",
        " - El caso 4 tiene accuracy casi 100%.\n",
        " Por tanto, ha funcionado mejor el dropout."
      ],
      "metadata": {
        "id": "cB_OYjjaChzN"
      }
    }
  ]
}